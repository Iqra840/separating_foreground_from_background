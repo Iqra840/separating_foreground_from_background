{
 "cells": [
  {
   "cell_type": "code",
   "execution_count": 18,
   "metadata": {},
   "outputs": [],
   "source": [
    "import numpy as np\n",
    "import cv2\n",
    "\n",
    "# Parameters\n",
    "blur = 15\n",
    "canny_low = 15\n",
    "canny_high = 150\n",
    "min_area = 0.0005\n",
    "max_area = 0.95\n",
    "dilate_iter = 10\n",
    "erode_iter = 10\n",
    "mask_color = (0.0,0.0,0.0)\n",
    "\n",
    "# initialize video from the webcam\n",
    "video = cv2.VideoCapture('/Users/iqra/Desktop/1.mp4',cv2.CAP_DSHOW)"
   ]
  },
  {
   "cell_type": "code",
   "execution_count": null,
   "metadata": {},
   "outputs": [],
   "source": [
    "while True:\n",
    "    val, frame = video.read()\n",
    "    "
   ]
  },
  {
   "cell_type": "code",
   "execution_count": null,
   "metadata": {},
   "outputs": [],
   "source": [
    "if val == True:\n",
    "        # Convert frame to grayscale if everything went as expected        \n",
    "        image_gray = cv2.cvtColor(frame, cv2.COLOR_BGR2GRAY)\n",
    "        # Apply Canny Edge Dection\n",
    "        edges = cv2.Canny(image_gray, canny_low, canny_high)\n",
    "        \n",
    "edges = cv2.dilate(edges, None)\n",
    "edges = cv2.erode(edges, None)\n",
    "        "
   ]
  },
  {
   "cell_type": "code",
   "execution_count": null,
   "metadata": {},
   "outputs": [],
   "source": [
    "contour_info = [(c, cv2.contourArea(c),) for c in\n",
    "                cv2.findContours(edges, cv2.RETR_LIST, cv2.CHAIN_APPROX_NONE)[1]]\n",
    "\n",
    "image_area = frame.shape[0] * frame.shape[1]  \n",
    "      \n",
    "max_area = max_area * image_area\n",
    "min_area = min_area * image_area"
   ]
  },
  {
   "cell_type": "code",
   "execution_count": null,
   "metadata": {},
   "outputs": [],
   "source": [
    "# Mask with a matrix of 0's\n",
    "mask = np.zeros(edges.shape, dtype = np.uint8)\n",
    "\n",
    "for contour in contour_info:\n",
    "    if contour[1] > min_area and contour[1] < max_area:\n",
    "        # Add contour to mask\n",
    "        mask = cv2.fillConvexPoly(mask, contour[0], (255))\n",
    "        \n",
    "# use dilate, erode, and blur to smooth out the mask\n",
    "mask = cv2.dilate(mask, None, iterations=mask_dilate_iter)\n",
    "mask = cv2.erode(mask, None, iterations=mask_erode_iter)\n",
    "mask = cv2.GaussianBlur(mask, (blur, blur), 0)\n",
    "\n",
    "mask_stack = mask_stack.astype('float32') / 255.0           \n",
    "frame = frame.astype('float32') / 255.0"
   ]
  },
  {
   "cell_type": "code",
   "execution_count": null,
   "metadata": {},
   "outputs": [],
   "source": [
    "# Blend the image and the mask\n",
    "masked = (mask_stack * frame) + ((1-mask_stack) * mask_color)\n",
    "masked = (masked * 255).astype('uint8')\n",
    "cv2.imshow(\"Foreground\", masked)"
   ]
  },
  {
   "cell_type": "code",
   "execution_count": null,
   "metadata": {},
   "outputs": [],
   "source": [
    "if cv2.waitKey(60) & 0xff == ord('e'):\n",
    "    break\n",
    "else:\n",
    "    break\n",
    "    \n",
    "cv2.destroyAllWindows()\n",
    "video.release()"
   ]
  }
 ],
 "metadata": {
  "kernelspec": {
   "display_name": "Python 3",
   "language": "python",
   "name": "python3"
  },
  "language_info": {
   "codemirror_mode": {
    "name": "ipython",
    "version": 3
   },
   "file_extension": ".py",
   "mimetype": "text/x-python",
   "name": "python",
   "nbconvert_exporter": "python",
   "pygments_lexer": "ipython3",
   "version": "3.7.0"
  }
 },
 "nbformat": 4,
 "nbformat_minor": 4
}
